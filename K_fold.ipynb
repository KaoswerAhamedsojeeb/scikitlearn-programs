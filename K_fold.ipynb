{
 "cells": [
  {
   "cell_type": "code",
   "execution_count": 13,
   "id": "5ed97659-e5c3-4759-b04f-5742e99d9a27",
   "metadata": {},
   "outputs": [],
   "source": [
    "from sklearn.model_selection import KFold\n",
    "from sklearn.datasets import load_iris\n",
    "from sklearn.linear_model import LinearRegression\n",
    "from sklearn.linear_model import LogisticRegression\n",
    "from sklearn.ensemble import RandomForestClassifier\n",
    "from sklearn.svm import SVC\n",
    "from sklearn.model_selection import train_test_split\n",
    "from sklearn.model_selection import StratifiedKFold\n",
    "from sklearn.model_selection import cross_val_score"
   ]
  },
  {
   "cell_type": "code",
   "execution_count": 2,
   "id": "13af6ab8-d3bc-4112-b88a-38e077a30a41",
   "metadata": {},
   "outputs": [],
   "source": [
    "df=load_iris()"
   ]
  },
  {
   "cell_type": "code",
   "execution_count": 3,
   "id": "e217ddf9-ad56-40fd-a7e9-592c4ced7da0",
   "metadata": {},
   "outputs": [
    {
     "data": {
      "text/plain": [
       "['DESCR',\n",
       " 'data',\n",
       " 'data_module',\n",
       " 'feature_names',\n",
       " 'filename',\n",
       " 'frame',\n",
       " 'target',\n",
       " 'target_names']"
      ]
     },
     "execution_count": 3,
     "metadata": {},
     "output_type": "execute_result"
    }
   ],
   "source": [
    "dir(df)"
   ]
  },
  {
   "cell_type": "markdown",
   "id": "768a682a-1efe-4ff3-9ebb-d5ed8b9884a7",
   "metadata": {},
   "source": [
    "# for train test split methode we get "
   ]
  },
  {
   "cell_type": "code",
   "execution_count": 4,
   "id": "5c89b535-5758-407b-b8bd-d035c88b7e06",
   "metadata": {},
   "outputs": [],
   "source": [
    "x1_train, x1_test, y1_train, y1_test=train_test_split(df.data, df.target, test_size=0.2)"
   ]
  },
  {
   "cell_type": "code",
   "execution_count": 5,
   "id": "8342ebd7-24b8-415c-acfe-2557da323183",
   "metadata": {},
   "outputs": [],
   "source": [
    "def model_score(x1_train, x1_test, y1_train, y1_test, model):\n",
    "    model.fit(x1_train,y1_train)\n",
    "    return model.score(x1_test,y1_test)\n",
    "    "
   ]
  },
  {
   "cell_type": "code",
   "execution_count": 6,
   "id": "64eab42c-2f92-4cd5-970a-3e1076468f8e",
   "metadata": {},
   "outputs": [
    {
     "name": "stdout",
     "output_type": "stream",
     "text": [
      "model scores:\n",
      "LinearRegression: 0.9133372747769154\n",
      "LogisticRegression: 0.9666666666666667\n",
      "RandomForest 0.9666666666666667\n",
      "SVC 0.9666666666666667\n"
     ]
    }
   ],
   "source": [
    "print(\"model scores:\")\n",
    "print(\"LinearRegression:\",model_score(x1_train, x1_test, y1_train, y1_test,LinearRegression()))\n",
    "print(\"LogisticRegression:\",model_score(x1_train, x1_test, y1_train, y1_test,LogisticRegression()))\n",
    "print(\"RandomForest\",model_score(x1_train, x1_test, y1_train, y1_test,RandomForestClassifier()))\n",
    "print(\"SVC\",model_score(x1_train, x1_test, y1_train, y1_test,SVC()))\n"
   ]
  },
  {
   "cell_type": "markdown",
   "id": "edbe14e8-4954-4dd4-ae5f-194e38072ae1",
   "metadata": {},
   "source": [
    "# now we will use kfold to split the data"
   ]
  },
  {
   "cell_type": "code",
   "execution_count": 7,
   "id": "e4a48f15-2353-4698-9673-3cecfd330513",
   "metadata": {},
   "outputs": [],
   "source": [
    "kf = KFold(n_splits=10)"
   ]
  },
  {
   "cell_type": "code",
   "execution_count": 11,
   "id": "fea202f3-8745-45e4-b1c5-9fd70a033752",
   "metadata": {},
   "outputs": [
    {
     "name": "stdout",
     "output_type": "stream",
     "text": [
      "model scores:\n",
      "LinearRegression: 0.0\n",
      "LogisticRegression: 1.0\n",
      "RandomForest 1.0\n",
      "SVC 1.0\n",
      "\n",
      "\n",
      "model scores:\n",
      "LinearRegression: 0.0\n",
      "LogisticRegression: 1.0\n",
      "RandomForest 1.0\n",
      "SVC 1.0\n",
      "\n",
      "\n",
      "model scores:\n",
      "LinearRegression: 0.0\n",
      "LogisticRegression: 1.0\n",
      "RandomForest 1.0\n",
      "SVC 1.0\n",
      "\n",
      "\n",
      "model scores:\n",
      "LinearRegression: 0.7571057716930457\n",
      "LogisticRegression: 1.0\n",
      "RandomForest 1.0\n",
      "SVC 1.0\n",
      "\n",
      "\n",
      "model scores:\n",
      "LinearRegression: 0.0\n",
      "LogisticRegression: 0.9333333333333333\n",
      "RandomForest 0.9333333333333333\n",
      "SVC 0.8666666666666667\n",
      "\n",
      "\n",
      "model scores:\n",
      "LinearRegression: 0.0\n",
      "LogisticRegression: 0.8666666666666667\n",
      "RandomForest 0.8666666666666667\n",
      "SVC 0.8666666666666667\n",
      "\n",
      "\n",
      "model scores:\n",
      "LinearRegression: 0.8410944715281062\n",
      "LogisticRegression: 1.0\n",
      "RandomForest 1.0\n",
      "SVC 1.0\n",
      "\n",
      "\n",
      "model scores:\n",
      "LinearRegression: 0.0\n",
      "LogisticRegression: 0.8666666666666667\n",
      "RandomForest 0.8666666666666667\n",
      "SVC 0.8666666666666667\n",
      "\n",
      "\n",
      "model scores:\n",
      "LinearRegression: 0.0\n",
      "LogisticRegression: 0.8666666666666667\n",
      "RandomForest 0.8\n",
      "SVC 0.8\n",
      "\n",
      "\n",
      "model scores:\n",
      "LinearRegression: 0.0\n",
      "LogisticRegression: 0.9333333333333333\n",
      "RandomForest 1.0\n",
      "SVC 0.9333333333333333\n",
      "\n",
      "\n"
     ]
    }
   ],
   "source": [
    "for train_indx, test_indx in kf.split(df.data):\n",
    "    x_train, x_test = df.data[train_indx], df.data[test_indx]\n",
    "    y_train, y_test = df.target[train_indx], df.target[test_indx]\n",
    "    print(\"model scores:\")\n",
    "    print(\"LinearRegression:\",model_score(x_train, x_test, y_train, y_test,LinearRegression()))\n",
    "    print(\"LogisticRegression:\",model_score(x_train, x_test, y_train, y_test,LogisticRegression()))\n",
    "    print(\"RandomForest\",model_score(x_train, x_test, y_train, y_test,RandomForestClassifier()))\n",
    "    print(\"SVC\",model_score(x_train, x_test, y_train, y_test,SVC()))\n",
    "    print(\"\\n\")"
   ]
  },
  {
   "cell_type": "code",
   "execution_count": null,
   "id": "4be75f45-a503-4bae-97c8-d92417be0516",
   "metadata": {},
   "outputs": [],
   "source": []
  },
  {
   "cell_type": "code",
   "execution_count": 12,
   "id": "909d3a82-2f31-4702-92bd-2a71c9b5f551",
   "metadata": {},
   "outputs": [
    {
     "name": "stdout",
     "output_type": "stream",
     "text": [
      "model scores:\n",
      "LinearRegression: 0.9401946033488257\n",
      "LogisticRegression: 1.0\n",
      "RandomForest 1.0\n",
      "SVC 1.0\n",
      "\n",
      "\n",
      "model scores:\n",
      "LinearRegression: 0.9481694528597908\n",
      "LogisticRegression: 0.9666666666666667\n",
      "RandomForest 0.9666666666666667\n",
      "SVC 0.9666666666666667\n",
      "\n",
      "\n",
      "model scores:\n",
      "LinearRegression: 0.8857358907522578\n",
      "LogisticRegression: 0.9333333333333333\n",
      "RandomForest 0.9333333333333333\n",
      "SVC 0.9333333333333333\n",
      "\n",
      "\n",
      "model scores:\n",
      "LinearRegression: 0.9383388781540649\n",
      "LogisticRegression: 1.0\n",
      "RandomForest 1.0\n",
      "SVC 1.0\n",
      "\n",
      "\n",
      "model scores:\n",
      "LinearRegression: 0.9063681133111343\n",
      "LogisticRegression: 0.9333333333333333\n",
      "RandomForest 0.9\n",
      "SVC 0.9333333333333333\n",
      "\n",
      "\n"
     ]
    }
   ],
   "source": [
    "skf=StratifiedKFold(n_splits=5, shuffle=True, random_state=42)\n",
    "\n",
    "for train_indx, test_indx in skf.split(df.data, df.target):\n",
    "    x_train, x_test = df.data[train_indx], df.data[test_indx]\n",
    "    y_train, y_test = df.target[train_indx], df.target[test_indx]\n",
    "    print(\"model scores:\")\n",
    "    print(\"LinearRegression:\",model_score(x_train, x_test, y_train, y_test,LinearRegression()))\n",
    "    print(\"LogisticRegression:\",model_score(x_train, x_test, y_train, y_test,LogisticRegression(max_iter=200)))\n",
    "    print(\"RandomForest\",model_score(x_train, x_test, y_train, y_test,RandomForestClassifier()))\n",
    "    print(\"SVC\",model_score(x_train, x_test, y_train, y_test,SVC()))\n",
    "    print(\"\\n\")"
   ]
  },
  {
   "cell_type": "markdown",
   "id": "ebb1bc5d-b3da-4e43-b859-98f1ca36ddb7",
   "metadata": {},
   "source": [
    "# we can score our model using cross val score"
   ]
  },
  {
   "cell_type": "code",
   "execution_count": 20,
   "id": "3b589a01-71ec-4c40-9945-9a4c7be0c756",
   "metadata": {},
   "outputs": [
    {
     "data": {
      "text/plain": [
       "array([0.        , 0.85124923, 0.        , 0.76155439, 0.        ])"
      ]
     },
     "execution_count": 20,
     "metadata": {},
     "output_type": "execute_result"
    }
   ],
   "source": [
    " cross_val_score(LinearRegression(), df.data, df.target)"
   ]
  },
  {
   "cell_type": "code",
   "execution_count": 21,
   "id": "e9a1062c-49c6-40c9-afa0-4fc15798d249",
   "metadata": {},
   "outputs": [
    {
     "data": {
      "text/plain": [
       "array([0.96666667, 1.        , 0.93333333, 0.96666667, 1.        ])"
      ]
     },
     "execution_count": 21,
     "metadata": {},
     "output_type": "execute_result"
    }
   ],
   "source": [
    "cross_val_score(LogisticRegression(max_iter=200), df.data, df.target)\n",
    "\n"
   ]
  },
  {
   "cell_type": "code",
   "execution_count": 22,
   "id": "ec8dc593-cb3b-4b25-a3e8-dca51f3d05d8",
   "metadata": {},
   "outputs": [
    {
     "data": {
      "text/plain": [
       "array([0.96666667, 0.96666667, 0.9       , 0.96666667, 1.        ])"
      ]
     },
     "execution_count": 22,
     "metadata": {},
     "output_type": "execute_result"
    }
   ],
   "source": [
    "cross_val_score(RandomForestClassifier(), df.data, df.target)"
   ]
  },
  {
   "cell_type": "code",
   "execution_count": null,
   "id": "0a421e2c-0389-4771-b69c-1de45452d194",
   "metadata": {},
   "outputs": [],
   "source": []
  }
 ],
 "metadata": {
  "kernelspec": {
   "display_name": "Python 3 (ipykernel)",
   "language": "python",
   "name": "python3"
  },
  "language_info": {
   "codemirror_mode": {
    "name": "ipython",
    "version": 3
   },
   "file_extension": ".py",
   "mimetype": "text/x-python",
   "name": "python",
   "nbconvert_exporter": "python",
   "pygments_lexer": "ipython3",
   "version": "3.12.9"
  }
 },
 "nbformat": 4,
 "nbformat_minor": 5
}
